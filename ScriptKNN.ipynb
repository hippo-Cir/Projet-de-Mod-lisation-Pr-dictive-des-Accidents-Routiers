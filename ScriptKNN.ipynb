{
  "nbformat": 4,
  "nbformat_minor": 0,
  "metadata": {
    "colab": {
      "provenance": [],
      "toc_visible": true,
      "authorship_tag": "ABX9TyME3Lz5RUpvtAiepugJGzCc",
      "include_colab_link": true
    },
    "kernelspec": {
      "name": "python3",
      "display_name": "Python 3"
    },
    "language_info": {
      "name": "python"
    }
  },
  "cells": [
    {
      "cell_type": "markdown",
      "metadata": {
        "id": "view-in-github",
        "colab_type": "text"
      },
      "source": [
        "<a href=\"https://colab.research.google.com/github/Emie18/projetBDIAWEB/blob/main/ScriptKNN.ipynb\" target=\"_parent\"><img src=\"https://colab.research.google.com/assets/colab-badge.svg\" alt=\"Open In Colab\"/></a>"
      ]
    },
    {
      "cell_type": "code",
      "source": [
        "from google.colab import drive\n",
        "drive.mount(\"/content/gdrive/\")"
      ],
      "metadata": {
        "colab": {
          "base_uri": "https://localhost:8080/"
        },
        "id": "my2PO2yyQppc",
        "outputId": "32d70245-6fa7-485f-e893-b74241b804f8"
      },
      "execution_count": 1,
      "outputs": [
        {
          "output_type": "stream",
          "name": "stdout",
          "text": [
            "Mounted at /content/gdrive/\n"
          ]
        }
      ]
    },
    {
      "cell_type": "code",
      "source": [
        "import pandas  as pd\n",
        "accidents_file = \"/content/gdrive/MyDrive/Projet_IA/export_IA2.csv\""
      ],
      "metadata": {
        "id": "SJeDjZbRQtev"
      },
      "execution_count": 2,
      "outputs": []
    },
    {
      "cell_type": "code",
      "source": [
        "def keep_selected_columns(data, columns_to_keep):\n",
        "    # Suppression des colonnes qui ne sont pas dans la liste columns_to_keep\n",
        "    columns_to_drop = set(data.columns) - set(columns_to_keep)\n",
        "    data = data.drop(columns_to_drop, axis=1)\n",
        "    return data"
      ],
      "metadata": {
        "id": "qAe4rHxdRTgF"
      },
      "execution_count": 3,
      "outputs": []
    },
    {
      "cell_type": "code",
      "source": [
        "def convert_column_type(data, column, new_type):\n",
        "    # Remplacement des virgules par des points dans la colonne\n",
        "    data[column] = data[column].str.replace(',', '.')\n",
        "    # Conversion du type de la colonne\n",
        "    data[column] = data[column].astype(new_type)\n",
        "    return data"
      ],
      "metadata": {
        "id": "wbFJo3pwS_fs"
      },
      "execution_count": 4,
      "outputs": []
    },
    {
      "cell_type": "code",
      "source": [
        "import pandas as pd\n",
        "from sklearn.neighbors import KNeighborsClassifier\n",
        "from sklearn.preprocessing import LabelEncoder\n",
        "import json\n",
        "\n",
        "def knn_predict_accident(accident_info, accidents_file):\n",
        "    # Charger le fichier CSV des accidents dans une DataFrame\n",
        "    accidents_data = pd.read_csv(accidents_file, delimiter=\";\")\n",
        "\n",
        "    accidents_data['descr_grav'] = accidents_data['descr_grav'].replace({\n",
        "        'Indemne': 'pas grave',\n",
        "        'Blessé léger': 'pas grave',\n",
        "        'Blessé hospitalisé': 'grave',\n",
        "        'Tué': 'grave'\n",
        "    })\n",
        "    columns_to_keep = ['descr_grav', 'latitude', 'longitude', 'descr_cat_veh',\n",
        "                       'descr_agglo', 'descr_athmo', 'descr_lum', 'descr_etat_surf',\n",
        "                       'descr_type_col']\n",
        "\n",
        "    accidents_data = accidents_data[columns_to_keep]\n",
        "\n",
        "    # Liste des colonnes à convertir\n",
        "    columns_to_convert = ['descr_grav', 'descr_cat_veh', 'descr_agglo', 'descr_athmo', 'descr_lum',\n",
        "                          'descr_etat_surf', 'descr_type_col']\n",
        "\n",
        "    accidents_data = convert_column_type(accidents_data, \"latitude\",float)\n",
        "    accidents_data = convert_column_type(accidents_data, \"longitude\",float)\n",
        "    print(\"Accidents graves avant le label encoding :\")\n",
        "    accident_228 = accidents_data.iloc[228]\n",
        "    print(accident_228)\n",
        "    # Création de l'objet LabelEncoder\n",
        "    le = LabelEncoder()\n",
        "    for var in columns_to_convert:\n",
        "        accidents_data[var] = le.fit_transform(accidents_data[var])\n",
        "  \n",
        "    print(\"Accident numéro 228 après le label encoding :\")\n",
        "    accident_228 = accidents_data.iloc[228]  # Accidents_data est indexé à partir de zéro, donc 227 correspond à l'indice 228\n",
        "    print(accident_228)\n",
        "\n",
        "    # Séparer les features (X) et les labels (y) à partir du jeu de données après le label encoding\n",
        "    X = accidents_data.drop('descr_grav', axis=1)\n",
        "    y = accidents_data['descr_grav']\n",
        "\n",
        "    # Créer un modèle KNN avec k=5\n",
        "    knn = KNeighborsClassifier(n_neighbors=5)\n",
        "\n",
        "    # Ajuster le modèle aux données d'entraînement\n",
        "    knn.fit(X, y)\n",
        "\n",
        "    # Réorganiser les colonnes dans le jeu de données de test\n",
        "    #accident_info_encoded = {}\n",
        "\n",
        "    accident_info_reordered = pd.DataFrame.from_dict([accident_info], orient='columns')\n",
        "    accident_info_reordered = accident_info_reordered[X.columns]\n",
        "\n",
        "    # Prédire la classe de l'accident donné\n",
        "    predicted_class = knn.predict(accident_info_reordered)\n",
        "    print('predicted_classe')\n",
        "    print(predicted_class)\n",
        "\n",
        "    # Convertir la prédiction en \"grave\" ou \"pas grave\"\n",
        "    predicted_class_string = \"grave\" if predicted_class[0] == 0 else \"pas grave\"\n",
        "\n",
        "    # Retourner la classe de l'accident sous forme de JSON\n",
        "    result = {'descr_grav': predicted_class_string}\n",
        "    json_result = json.dumps(result)\n",
        "\n",
        "    return json_result\n",
        "\n",
        "# Exemple d'utilisation du script\n",
        "accident_info = {\n",
        "    'descr_cat_veh': 21,\n",
        "    'descr_agglo': 1,\n",
        "    'descr_lum': 4,\n",
        "    'descr_athmo': 0,#0\n",
        "    'descr_etat_surf': 8,#8\n",
        "    'descr_type_col': 1,\n",
        "    'latitude': 47.1167,\n",
        "    'longitude': -2.1000\n",
        "}  # Remplacez les features par les informations réelles de l'accident\n",
        "\n",
        "predicted_class_json = knn_predict_accident(accident_info, accidents_file)\n",
        "print(predicted_class_json)\n"
      ],
      "metadata": {
        "colab": {
          "base_uri": "https://localhost:8080/"
        },
        "id": "S9VCnzFg9p_C",
        "outputId": "9e9edb92-ae61-43d9-cafb-931fb8c9b115"
      },
      "execution_count": 20,
      "outputs": [
        {
          "output_type": "stream",
          "name": "stdout",
          "text": [
            "Accidents graves avant le label encoding :\n",
            "descr_grav                             grave\n",
            "latitude                             47.1167\n",
            "longitude                               -2.1\n",
            "descr_cat_veh                        VL seul\n",
            "descr_agglo               Hors agglomération\n",
            "descr_athmo                          Normale\n",
            "descr_lum                         Plein jour\n",
            "descr_etat_surf                      Normale\n",
            "descr_type_col     Deux véhicules - Frontale\n",
            "Name: 228, dtype: object\n",
            "Accident numéro 228 après le label encoding :\n",
            "descr_grav          0.0000\n",
            "latitude           47.1167\n",
            "longitude          -2.1000\n",
            "descr_cat_veh      21.0000\n",
            "descr_agglo         1.0000\n",
            "descr_athmo         3.0000\n",
            "descr_lum           4.0000\n",
            "descr_etat_surf     7.0000\n",
            "descr_type_col      1.0000\n",
            "Name: 228, dtype: float64\n",
            "predicted_classe\n",
            "[0]\n",
            "{\"descr_grav\": \"grave\"}\n"
          ]
        }
      ]
    }
  ]
}